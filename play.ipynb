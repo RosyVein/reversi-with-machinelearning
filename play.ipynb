{
 "cells": [
  {
   "cell_type": "code",
   "execution_count": null,
   "metadata": {},
   "outputs": [],
   "source": [
    "class RandomPlayer:\n",
    "    def go(self, board):\n",
    "        legal_moves = board.legal_moves\n",
    "        if len(legal_moves) == 0:\n",
    "            return PASS\n",
    "        else:\n",
    "            return random.choice(list(legal_moves))\n",
    "\n",
    "class GreedyPlayer:\n",
    "    def __init__(self, model_path, device, network='dqn'):\n",
    "        # if network == 'dueling':\n",
    "        #     from creversi_gym.network.cnn10_dueling import DQN\n",
    "        # else:\n",
    "        #     #from creversi_gym.network.cnn5 import DQN\n",
    "        #     from creversi_gym.network.cnn10 import DQN\n",
    "        self.device = device\n",
    "        self.model = DQN().to(device)\n",
    "        checkpoint = torch.load(model_path)\n",
    "        self.model.load_state_dict(checkpoint['state_dict'])\n",
    "        self.model.eval()\n",
    "        self.features = np.empty((1, 2, 8, 8), np.float32)\n",
    "\n",
    "    def go(self, board):\n",
    "        with torch.no_grad():\n",
    "            board.piece_planes(self.features[0])\n",
    "            state = torch.from_numpy(self.features).to(self.device)\n",
    "            q = self.model(state)\n",
    "            # 合法手に絞る\n",
    "            legal_moves = list(board.legal_moves)\n",
    "            next_actions = torch.tensor([legal_moves], device=self.device, dtype=torch.long)\n",
    "            legal_q = q.gather(1, next_actions)\n",
    "            return legal_moves[legal_q.argmax(dim=1).item()]"
   ]
  },
  {
   "cell_type": "code",
   "execution_count": null,
   "metadata": {},
   "outputs": [],
   "source": [
    "def vs(board, player1, player2):\n",
    "  player1name = player1.__class__.__name__\n",
    "  player2name = player2.__class__.__name__\n",
    "  print(player1name + \" vs \" + player2name)\n",
    "  print(player1name + \" Go First\")\n",
    "  while board.is_game_over() == False:\n",
    "    board.move(player1.go(board))\n",
    "    board.move(player2.go(board))\n",
    "  n_white = 64 - board.piece_num()\n",
    "  n_black = board.piece_num()\n",
    "  if n_white > n_black:\n",
    "    winner = 2\n",
    "    print(\"White Win!\")\n",
    "  elif n_black > n_white:\n",
    "    winner = 1\n",
    "    print(\"Black Win!\")\n",
    "  else:\n",
    "    winner = 0\n",
    "    print(\"Draw!\")\n",
    "  print(\"White:\",n_white)\n",
    "  print(\"Black:\",n_black)\n",
    "  return board\n",
    "\n",
    "def vs_notext(board, player1, player2):\n",
    "  while board.is_game_over() == False:\n",
    "    board.move(player1.go(board))\n",
    "    board.move(player2.go(board))\n",
    "  n_white = 64 - board.piece_num()\n",
    "  n_black = board.piece_num()\n",
    "  if n_white > n_black:\n",
    "    winner = 2\n",
    "  elif n_black > n_white:\n",
    "    winner = 1\n",
    "  else:\n",
    "    winner = 0\n",
    "  return winner"
   ]
  },
  {
   "cell_type": "code",
   "execution_count": null,
   "metadata": {},
   "outputs": [],
   "source": [
    "rp = RandomPlayer()\n",
    "gp = GreedyPlayer(\"/content/epsilon_greedy_model.pt\", device)"
   ]
  },
  {
   "cell_type": "code",
   "execution_count": null,
   "metadata": {},
   "outputs": [
    {
     "name": "stdout",
     "output_type": "stream",
     "text": [
      "RandomPlayer vs GreedyPlayer\n",
      "RandomPlayer Go First\n",
      "White Win!\n",
      "White: 33\n",
      "Black: 31\n"
     ]
    },
    {
     "data": {
      "image/svg+xml": [
       "<svg xmlns=\"http://www.w3.org/2000/svg\" version=\"1.1\" xmlns:xlink=\"http://www.w3.org/1999/xlink\" width=\"215.0\" height=\"215.0\" viewBox=\"0 0 172 172\"><defs><g id=\"black\"><circle cx=\"10\" cy=\"10\" r=\"8.5\" fill=\"black\" /></g><g id=\"white\"><circle cx=\"10\" cy=\"10\" r=\"8.5\" fill=\"white\" /></g></defs><rect fill=\"green\" height=\"161\" width=\"161\" x=\"10\" y=\"10\" /><g stroke=\"black\"><rect width=\"161\" height=\"161\" stroke-width=\"1.5\" fill=\"none\" x=\"10\" y=\"10\" /><line stroke-width=\"1.0\" x1=\"10.5\" x2=\"170.5\" y1=\"30.5\" y2=\"30.5\" /><line stroke-width=\"1.0\" x1=\"10.5\" x2=\"170.5\" y1=\"50.5\" y2=\"50.5\" /><line stroke-width=\"1.0\" x1=\"10.5\" x2=\"170.5\" y1=\"70.5\" y2=\"70.5\" /><line stroke-width=\"1.0\" x1=\"10.5\" x2=\"170.5\" y1=\"90.5\" y2=\"90.5\" /><line stroke-width=\"1.0\" x1=\"10.5\" x2=\"170.5\" y1=\"110.5\" y2=\"110.5\" /><line stroke-width=\"1.0\" x1=\"10.5\" x2=\"170.5\" y1=\"130.5\" y2=\"130.5\" /><line stroke-width=\"1.0\" x1=\"10.5\" x2=\"170.5\" y1=\"150.5\" y2=\"150.5\" /><line stroke-width=\"1.0\" x1=\"30.5\" x2=\"30.5\" y1=\"10.5\" y2=\"170.5\" /><line stroke-width=\"1.0\" x1=\"50.5\" x2=\"50.5\" y1=\"10.5\" y2=\"170.5\" /><line stroke-width=\"1.0\" x1=\"70.5\" x2=\"70.5\" y1=\"10.5\" y2=\"170.5\" /><line stroke-width=\"1.0\" x1=\"90.5\" x2=\"90.5\" y1=\"10.5\" y2=\"170.5\" /><line stroke-width=\"1.0\" x1=\"110.5\" x2=\"110.5\" y1=\"10.5\" y2=\"170.5\" /><line stroke-width=\"1.0\" x1=\"130.5\" x2=\"130.5\" y1=\"10.5\" y2=\"170.5\" /><line stroke-width=\"1.0\" x1=\"150.5\" x2=\"150.5\" y1=\"10.5\" y2=\"170.5\" /></g><g><text font-family=\"serif\" font-size=\"9.5\" text-anchor=\"middle\" x=\"20.5\" y=\"8\">a</text><text font-family=\"serif\" font-size=\"9.5\" text-anchor=\"middle\" x=\"40.5\" y=\"8\">b</text><text font-family=\"serif\" font-size=\"9.5\" text-anchor=\"middle\" x=\"60.5\" y=\"8\">c</text><text font-family=\"serif\" font-size=\"9.5\" text-anchor=\"middle\" x=\"80.5\" y=\"8\">d</text><text font-family=\"serif\" font-size=\"9.5\" text-anchor=\"middle\" x=\"100.5\" y=\"8\">e</text><text font-family=\"serif\" font-size=\"9.5\" text-anchor=\"middle\" x=\"120.5\" y=\"8\">f</text><text font-family=\"serif\" font-size=\"9.5\" text-anchor=\"middle\" x=\"140.5\" y=\"8\">g</text><text font-family=\"serif\" font-size=\"9.5\" text-anchor=\"middle\" x=\"160.5\" y=\"8\">h</text><text font-family=\"serif\" font-size=\"9.5\" x=\"2.5\" y=\"23.5\">1</text><text font-family=\"serif\" font-size=\"9.5\" x=\"2.5\" y=\"43.5\">2</text><text font-family=\"serif\" font-size=\"9.5\" x=\"2.5\" y=\"63.5\">3</text><text font-family=\"serif\" font-size=\"9.5\" x=\"2.5\" y=\"83.5\">4</text><text font-family=\"serif\" font-size=\"9.5\" x=\"2.5\" y=\"103.5\">5</text><text font-family=\"serif\" font-size=\"9.5\" x=\"2.5\" y=\"123.5\">6</text><text font-family=\"serif\" font-size=\"9.5\" x=\"2.5\" y=\"143.5\">7</text><text font-family=\"serif\" font-size=\"9.5\" x=\"2.5\" y=\"163.5\">8</text></g><use xlink:href=\"#white\" x=\"10.5\" y=\"10.5\" /><use xlink:href=\"#white\" x=\"30.5\" y=\"10.5\" /><use xlink:href=\"#white\" x=\"50.5\" y=\"10.5\" /><use xlink:href=\"#white\" x=\"70.5\" y=\"10.5\" /><use xlink:href=\"#white\" x=\"90.5\" y=\"10.5\" /><use xlink:href=\"#white\" x=\"110.5\" y=\"10.5\" /><use xlink:href=\"#white\" x=\"130.5\" y=\"10.5\" /><use xlink:href=\"#black\" x=\"150.5\" y=\"10.5\" /><use xlink:href=\"#white\" x=\"10.5\" y=\"30.5\" /><use xlink:href=\"#black\" x=\"30.5\" y=\"30.5\" /><use xlink:href=\"#white\" x=\"50.5\" y=\"30.5\" /><use xlink:href=\"#black\" x=\"70.5\" y=\"30.5\" /><use xlink:href=\"#black\" x=\"90.5\" y=\"30.5\" /><use xlink:href=\"#black\" x=\"110.5\" y=\"30.5\" /><use xlink:href=\"#black\" x=\"130.5\" y=\"30.5\" /><use xlink:href=\"#black\" x=\"150.5\" y=\"30.5\" /><use xlink:href=\"#white\" x=\"10.5\" y=\"50.5\" /><use xlink:href=\"#white\" x=\"30.5\" y=\"50.5\" /><use xlink:href=\"#black\" x=\"50.5\" y=\"50.5\" /><use xlink:href=\"#white\" x=\"70.5\" y=\"50.5\" /><use xlink:href=\"#black\" x=\"90.5\" y=\"50.5\" /><use xlink:href=\"#black\" x=\"110.5\" y=\"50.5\" /><use xlink:href=\"#black\" x=\"130.5\" y=\"50.5\" /><use xlink:href=\"#black\" x=\"150.5\" y=\"50.5\" /><use xlink:href=\"#white\" x=\"10.5\" y=\"70.5\" /><use xlink:href=\"#white\" x=\"30.5\" y=\"70.5\" /><use xlink:href=\"#white\" x=\"50.5\" y=\"70.5\" /><use xlink:href=\"#black\" x=\"70.5\" y=\"70.5\" /><use xlink:href=\"#black\" x=\"90.5\" y=\"70.5\" /><use xlink:href=\"#white\" x=\"110.5\" y=\"70.5\" /><use xlink:href=\"#white\" x=\"130.5\" y=\"70.5\" /><use xlink:href=\"#black\" x=\"150.5\" y=\"70.5\" /><use xlink:href=\"#white\" x=\"10.5\" y=\"90.5\" /><use xlink:href=\"#white\" x=\"30.5\" y=\"90.5\" /><use xlink:href=\"#black\" x=\"50.5\" y=\"90.5\" /><use xlink:href=\"#black\" x=\"70.5\" y=\"90.5\" /><use xlink:href=\"#white\" x=\"90.5\" y=\"90.5\" /><use xlink:href=\"#black\" x=\"110.5\" y=\"90.5\" /><use xlink:href=\"#white\" x=\"130.5\" y=\"90.5\" /><use xlink:href=\"#black\" x=\"150.5\" y=\"90.5\" /><use xlink:href=\"#white\" x=\"10.5\" y=\"110.5\" /><use xlink:href=\"#white\" x=\"30.5\" y=\"110.5\" /><use xlink:href=\"#white\" x=\"50.5\" y=\"110.5\" /><use xlink:href=\"#white\" x=\"70.5\" y=\"110.5\" /><use xlink:href=\"#white\" x=\"90.5\" y=\"110.5\" /><use xlink:href=\"#white\" x=\"110.5\" y=\"110.5\" /><use xlink:href=\"#white\" x=\"130.5\" y=\"110.5\" /><use xlink:href=\"#black\" x=\"150.5\" y=\"110.5\" /><use xlink:href=\"#white\" x=\"10.5\" y=\"130.5\" /><use xlink:href=\"#black\" x=\"30.5\" y=\"130.5\" /><use xlink:href=\"#white\" x=\"50.5\" y=\"130.5\" /><use xlink:href=\"#white\" x=\"70.5\" y=\"130.5\" /><use xlink:href=\"#white\" x=\"90.5\" y=\"130.5\" /><use xlink:href=\"#black\" x=\"110.5\" y=\"130.5\" /><use xlink:href=\"#black\" x=\"130.5\" y=\"130.5\" /><use xlink:href=\"#black\" x=\"150.5\" y=\"130.5\" /><use xlink:href=\"#black\" x=\"10.5\" y=\"150.5\" /><use xlink:href=\"#black\" x=\"30.5\" y=\"150.5\" /><use xlink:href=\"#black\" x=\"50.5\" y=\"150.5\" /><use xlink:href=\"#black\" x=\"70.5\" y=\"150.5\" /><use xlink:href=\"#black\" x=\"90.5\" y=\"150.5\" /><use xlink:href=\"#black\" x=\"110.5\" y=\"150.5\" /><use xlink:href=\"#black\" x=\"130.5\" y=\"150.5\" /><use xlink:href=\"#white\" x=\"150.5\" y=\"150.5\" /></svg>"
      ],
      "text/plain": [
       " |abcdefgh\n",
       "-+--------\n",
       "1|ooooooox\n",
       "2|oxoxxxxx\n",
       "3|ooxoxxxx\n",
       "4|oooxxoox\n",
       "5|ooxxoxox\n",
       "6|ooooooox\n",
       "7|oxoooxxx\n",
       "8|xxxxxxxo"
      ]
     },
     "metadata": {},
     "output_type": "display_data"
    }
   ],
   "source": [
    "newboard = creversi.Board()\n",
    "vs(newboard, rp, gp)"
   ]
  },
  {
   "cell_type": "code",
   "execution_count": null,
   "metadata": {},
   "outputs": [],
   "source": [
    "rpwin = 0\n",
    "gpwin = 0\n",
    "draw = 0\n",
    "for i in range(500):\n",
    "  board = creversi.Board()\n",
    "  result = vs_notext(board, rp, gp)\n",
    "  if result == 1:\n",
    "    rpwin += 1\n",
    "  elif result == 2:\n",
    "    gpwin += 1\n",
    "  else:\n",
    "    draw += 1\n",
    "\n",
    "  board = creversi.Board()\n",
    "  result = vs_notext(board, gp, rp)\n",
    "  if result == 1:\n",
    "    gpwin += 1\n",
    "  elif result == 2:\n",
    "    rpwin += 1\n",
    "  else:\n",
    "    draw += 1"
   ]
  },
  {
   "cell_type": "code",
   "execution_count": null,
   "metadata": {},
   "outputs": [
    {
     "name": "stdout",
     "output_type": "stream",
     "text": [
      "RandomPlayer vs GreedyPlayer\n",
      "RandomPlayer Win: 407\n",
      "GreedyPlayer Win: 556\n",
      "Draw: 37\n",
      "RandomPlayer Win Rate: 0.407\n",
      "GreedyPlayer Win Rate: 0.556\n"
     ]
    },
    {
     "name": "stderr",
     "output_type": "stream",
     "text": [
      "/usr/local/lib/python3.10/dist-packages/ipykernel/ipkernel.py:283: DeprecationWarning: `should_run_async` will not call `transform_cell` automatically in the future. Please pass the result to `transformed_cell` argument and any exception that happen during thetransform in `preprocessing_exc_tuple` in IPython 7.17 and above.\n",
      "  and should_run_async(code)\n"
     ]
    }
   ],
   "source": [
    "print(\"RandomPlayer vs GreedyPlayer\")\n",
    "print(\"RandomPlayer Win:\", rpwin)\n",
    "print(\"GreedyPlayer Win:\", gpwin)\n",
    "print(\"Draw:\", draw)\n",
    "print(\"RandomPlayer Win Rate:\", rpwin/(rpwin+gpwin+draw))\n",
    "print(\"GreedyPlayer Win Rate:\", gpwin/(rpwin+gpwin+draw))"
   ]
  },
  {
   "cell_type": "code",
   "execution_count": null,
   "metadata": {},
   "outputs": [],
   "source": [
    "rp1 = RandomPlayer()\n",
    "rp2 = RandomPlayer()\n",
    "\n",
    "rp1win = 0\n",
    "rp2win = 0\n",
    "draw = 0\n",
    "for i in range(500):\n",
    "  board = creversi.Board()\n",
    "  result = vs_notext(board, rp1, rp2)\n",
    "  if result == 1:\n",
    "    rp1win += 1\n",
    "  elif result == 2:\n",
    "    rp2win += 1\n",
    "  else:\n",
    "    draw += 1\n",
    "\n",
    "  board = creversi.Board()\n",
    "  result = vs_notext(board, rp2, rp1)\n",
    "  if result == 1:\n",
    "    rp2win += 1\n",
    "  elif result == 2:\n",
    "    rp1win += 1\n",
    "  else:\n",
    "    draw += 1"
   ]
  },
  {
   "cell_type": "code",
   "execution_count": null,
   "metadata": {},
   "outputs": [
    {
     "name": "stdout",
     "output_type": "stream",
     "text": [
      "RandomPlayer vs RandomPlayer\n",
      "RandomPlayer1 Win: 492\n",
      "RandomPlayer2 Win: 474\n",
      "Draw: 34\n",
      "RandomPlayer1 Win Rate: 0.492\n",
      "RandomPlayer2 Win Rate: 0.474\n"
     ]
    }
   ],
   "source": [
    "print(\"RandomPlayer vs RandomPlayer\")\n",
    "print(\"RandomPlayer1 Win:\", rp1win)\n",
    "print(\"RandomPlayer2 Win:\", rp2win)\n",
    "print(\"Draw:\", draw)\n",
    "print(\"RandomPlayer1 Win Rate:\", rp1win/(rp1win+rp2win+draw))\n",
    "print(\"RandomPlayer2 Win Rate:\", rp2win/(rp1win+rp2win+draw))"
   ]
  },
  {
   "cell_type": "code",
   "execution_count": null,
   "metadata": {},
   "outputs": [],
   "source": [
    "gp1 = GreedyPlayer(\"/content/epsilon_greedy_model.pt\", device)\n",
    "gp2 = GreedyPlayer(\"/content/epsilon_greedy_model.pt\", device)\n",
    "\n",
    "gp1win = 0\n",
    "gp2win = 0\n",
    "draw = 0\n",
    "for i in range(500):\n",
    "  board = creversi.Board()\n",
    "  result = vs_notext(board, gp1, gp2)\n",
    "  if result == 1:\n",
    "    gp1win += 1\n",
    "  elif result == 2:\n",
    "    gp2win += 1\n",
    "  else:\n",
    "    draw += 1\n",
    "\n",
    "  board = creversi.Board()\n",
    "  result = vs_notext(board, gp2, gp1)\n",
    "  if result == 1:\n",
    "    gp2win += 1\n",
    "  elif result == 2:\n",
    "    gp1win += 1\n",
    "  else:\n",
    "    draw += 1"
   ]
  },
  {
   "cell_type": "code",
   "execution_count": null,
   "metadata": {},
   "outputs": [
    {
     "name": "stdout",
     "output_type": "stream",
     "text": [
      "GreedyPlayer vs GreedyPlayer\n",
      "GreedyPlayer1 Win: 500\n",
      "GreedyPlayer2 Win: 500\n",
      "Draw: 0\n",
      "GreedyPlayer1 Win Rate: 0.5\n",
      "GreedyPlayer2 Win Rate: 0.5\n"
     ]
    }
   ],
   "source": [
    "print(\"GreedyPlayer vs GreedyPlayer\")\n",
    "print(\"GreedyPlayer1 Win:\", gp1win)\n",
    "print(\"GreedyPlayer2 Win:\", gp2win)\n",
    "print(\"Draw:\", draw)\n",
    "print(\"GreedyPlayer1 Win Rate:\", gp1win/(gp1win+gp2win+draw))\n",
    "print(\"GreedyPlayer2 Win Rate:\", gp2win/(gp1win+gp2win+draw))"
   ]
  }
 ],
 "metadata": {
  "language_info": {
   "name": "python"
  }
 },
 "nbformat": 4,
 "nbformat_minor": 2
}
