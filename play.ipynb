{
  "cells": [
    {
      "cell_type": "code",
      "execution_count": 1,
      "metadata": {
        "colab": {
          "base_uri": "https://localhost:8080/"
        },
        "id": "zuuVi5KUyJBG",
        "outputId": "777fc6c6-b503-429e-e292-f210629c6e21"
      },
      "outputs": [
        {
          "output_type": "stream",
          "name": "stdout",
          "text": [
            "Collecting creversi\n",
            "  Downloading creversi-0.0.1-cp310-cp310-manylinux_2_24_x86_64.whl (711 kB)\n",
            "\u001b[2K     \u001b[90m━━━━━━━━━━━━━━━━━━━━━━━━━━━━━━━━━━━━━━━━\u001b[0m \u001b[32m711.0/711.0 kB\u001b[0m \u001b[31m3.3 MB/s\u001b[0m eta \u001b[36m0:00:00\u001b[0m\n",
            "\u001b[?25hInstalling collected packages: creversi\n",
            "Successfully installed creversi-0.0.1\n"
          ]
        }
      ],
      "source": [
        "!pip install creversi"
      ]
    },
    {
      "cell_type": "code",
      "execution_count": 15,
      "metadata": {
        "id": "VeLSyOURyJBJ"
      },
      "outputs": [],
      "source": [
        "from creversi import *\n",
        "import random\n",
        "import torch\n",
        "import torch.nn as nn\n",
        "import torch.nn.functional as F\n",
        "\n",
        "# if gpu is to be used\n",
        "device = torch.device(\"cuda\" if torch.cuda.is_available() else \"cpu\")"
      ]
    },
    {
      "cell_type": "code",
      "source": [
        "k = 192\n",
        "fcl_units = 256\n",
        "class DQN(nn.Module):\n",
        "  def __init__(self):\n",
        "    super(DQN, self).__init__()\n",
        "    self.conv1 = nn.Conv2d(2, k, kernel_size=3, padding=1)\n",
        "    self.bn1 = nn.BatchNorm2d(k)\n",
        "    self.conv2 = nn.Conv2d(k, k, kernel_size=3, padding=1)\n",
        "    self.bn2 = nn.BatchNorm2d(k)\n",
        "    self.conv3 = nn.Conv2d(k, k, kernel_size=3, padding=1)\n",
        "    self.bn3 = nn.BatchNorm2d(k)\n",
        "    self.conv4 = nn.Conv2d(k, k, kernel_size=3, padding=1)\n",
        "    self.bn4 = nn.BatchNorm2d(k)\n",
        "    self.conv5 = nn.Conv2d(k, k, kernel_size=3, padding=1)\n",
        "    self.bn5 = nn.BatchNorm2d(k)\n",
        "    self.conv6 = nn.Conv2d(k, k, kernel_size=3, padding=1)\n",
        "    self.bn6 = nn.BatchNorm2d(k)\n",
        "    self.conv7 = nn.Conv2d(k, k, kernel_size=3, padding=1)\n",
        "    self.bn7 = nn.BatchNorm2d(k)\n",
        "    self.conv8 = nn.Conv2d(k, k, kernel_size=3, padding=1)\n",
        "    self.bn8 = nn.BatchNorm2d(k)\n",
        "    self.conv9 = nn.Conv2d(k, k, kernel_size=3, padding=1)\n",
        "    self.bn9 = nn.BatchNorm2d(k)\n",
        "    self.conv10 = nn.Conv2d(k, k, kernel_size=3, padding=1)\n",
        "    self.bn10 = nn.BatchNorm2d(k)\n",
        "    self.fcl1 = nn.Linear(k * 64, fcl_units)\n",
        "    self.fcl2 = nn.Linear(fcl_units, 65)\n",
        "\n",
        "  def forward(self, x):\n",
        "    x = F.relu(self.bn1(self.conv1(x)))\n",
        "    x = F.relu(self.bn2(self.conv2(x)))\n",
        "    x = F.relu(self.bn3(self.conv3(x)))\n",
        "    x = F.relu(self.bn4(self.conv4(x)))\n",
        "    x = F.relu(self.bn5(self.conv5(x)))\n",
        "    x = F.relu(self.bn6(self.conv6(x)))\n",
        "    x = F.relu(self.bn7(self.conv7(x)))\n",
        "    x = F.relu(self.bn8(self.conv8(x)))\n",
        "    x = F.relu(self.bn9(self.conv9(x)))\n",
        "    x = F.relu(self.bn10(self.conv10(x)))\n",
        "    x = F.relu(self.fcl1(x.view(-1, k * 64)))\n",
        "    x = self.fcl2(x)\n",
        "    return x.tanh()"
      ],
      "metadata": {
        "id": "8ktp1uVcVg1q"
      },
      "execution_count": 11,
      "outputs": []
    },
    {
      "cell_type": "code",
      "execution_count": 3,
      "metadata": {
        "id": "n5egyKgTyJBJ"
      },
      "outputs": [],
      "source": [
        "class RandomPlayer:\n",
        "    def go(self, board):\n",
        "        legal_moves = board.legal_moves\n",
        "        if len(legal_moves) == 0:\n",
        "            return PASS\n",
        "        else:\n",
        "            return random.choice(list(legal_moves))\n",
        "\n",
        "class GreedyPlayer:\n",
        "    def __init__(self, model_path, device, network='dqn'):\n",
        "        # if network == 'dueling':\n",
        "        #     from creversi_gym.network.cnn10_dueling import DQN\n",
        "        # else:\n",
        "        #     #from creversi_gym.network.cnn5 import DQN\n",
        "        #     from creversi_gym.network.cnn10 import DQN\n",
        "        self.device = device\n",
        "        self.model = DQN().to(device)\n",
        "        checkpoint = torch.load(model_path)\n",
        "        self.model.load_state_dict(checkpoint['state_dict'])\n",
        "        self.model.eval()\n",
        "        self.features = np.empty((1, 2, 8, 8), np.float32)\n",
        "\n",
        "    def go(self, board):\n",
        "        with torch.no_grad():\n",
        "            board.piece_planes(self.features[0])\n",
        "            state = torch.from_numpy(self.features).to(self.device)\n",
        "            q = self.model(state)\n",
        "            # 合法手に絞る\n",
        "            legal_moves = list(board.legal_moves)\n",
        "            next_actions = torch.tensor([legal_moves], device=self.device, dtype=torch.long)\n",
        "            legal_q = q.gather(1, next_actions)\n",
        "            return legal_moves[legal_q.argmax(dim=1).item()]"
      ]
    },
    {
      "cell_type": "code",
      "execution_count": 4,
      "metadata": {
        "id": "rdv5Gcb-yJBL"
      },
      "outputs": [],
      "source": [
        "def vs(board, player1, player2):\n",
        "  player1name = player1.__class__.__name__\n",
        "  player2name = player2.__class__.__name__\n",
        "  print(player1name + \" vs \" + player2name)\n",
        "  print(player1name + \" Go First\")\n",
        "  while board.is_game_over() == False:\n",
        "    board.move(player1.go(board))\n",
        "    board.move(player2.go(board))\n",
        "  n_white = 64 - board.piece_num()\n",
        "  n_black = board.piece_num()\n",
        "  if n_white > n_black:\n",
        "    winner = 2\n",
        "    print(\"White Win!\")\n",
        "  elif n_black > n_white:\n",
        "    winner = 1\n",
        "    print(\"Black Win!\")\n",
        "  else:\n",
        "    winner = 0\n",
        "    print(\"Draw!\")\n",
        "  print(\"White:\",n_white)\n",
        "  print(\"Black:\",n_black)\n",
        "  return board\n",
        "\n",
        "def vs_notext(board, player1, player2):\n",
        "  while board.is_game_over() == False:\n",
        "    board.move(player1.go(board))\n",
        "    board.move(player2.go(board))\n",
        "  n_white = 64 - board.piece_num()\n",
        "  n_black = board.piece_num()\n",
        "  if n_white > n_black:\n",
        "    winner = 2\n",
        "  elif n_black > n_white:\n",
        "    winner = 1\n",
        "  else:\n",
        "    winner = 0\n",
        "  return winner"
      ]
    },
    {
      "cell_type": "code",
      "execution_count": 13,
      "metadata": {
        "id": "HhZUZTpiyJBM"
      },
      "outputs": [],
      "source": [
        "rp = RandomPlayer()\n",
        "gp = GreedyPlayer(\"/content/epsilon_greedy_model.pt\", device)"
      ]
    },
    {
      "cell_type": "code",
      "execution_count": 16,
      "metadata": {
        "colab": {
          "base_uri": "https://localhost:8080/",
          "height": 321
        },
        "id": "NOpk50lfyJBN",
        "outputId": "6a0b8fd1-3ae0-4441-daae-13eb5fb5df1b"
      },
      "outputs": [
        {
          "output_type": "stream",
          "name": "stdout",
          "text": [
            "RandomPlayer vs GreedyPlayer\n",
            "RandomPlayer Go First\n",
            "Black Win!\n",
            "White: 16\n",
            "Black: 48\n"
          ]
        },
        {
          "output_type": "execute_result",
          "data": {
            "text/plain": [
              " |abcdefgh\n",
              "-+--------\n",
              "1|xxxxxxxx\n",
              "2|xxoxooxx\n",
              "3|xoxooxox\n",
              "4|xooxxxox\n",
              "5|xooxxxxx\n",
              "6|xxxxxxxx\n",
              "7|xxxxxxox\n",
              "8|xxxxxooo"
            ],
            "image/svg+xml": "<svg xmlns=\"http://www.w3.org/2000/svg\" version=\"1.1\" xmlns:xlink=\"http://www.w3.org/1999/xlink\" width=\"215.0\" height=\"215.0\" viewBox=\"0 0 172 172\"><defs><g id=\"black\"><circle cx=\"10\" cy=\"10\" r=\"8.5\" fill=\"black\" /></g><g id=\"white\"><circle cx=\"10\" cy=\"10\" r=\"8.5\" fill=\"white\" /></g></defs><rect fill=\"green\" height=\"161\" width=\"161\" x=\"10\" y=\"10\" /><g stroke=\"black\"><rect width=\"161\" height=\"161\" stroke-width=\"1.5\" fill=\"none\" x=\"10\" y=\"10\" /><line stroke-width=\"1.0\" x1=\"10.5\" x2=\"170.5\" y1=\"30.5\" y2=\"30.5\" /><line stroke-width=\"1.0\" x1=\"10.5\" x2=\"170.5\" y1=\"50.5\" y2=\"50.5\" /><line stroke-width=\"1.0\" x1=\"10.5\" x2=\"170.5\" y1=\"70.5\" y2=\"70.5\" /><line stroke-width=\"1.0\" x1=\"10.5\" x2=\"170.5\" y1=\"90.5\" y2=\"90.5\" /><line stroke-width=\"1.0\" x1=\"10.5\" x2=\"170.5\" y1=\"110.5\" y2=\"110.5\" /><line stroke-width=\"1.0\" x1=\"10.5\" x2=\"170.5\" y1=\"130.5\" y2=\"130.5\" /><line stroke-width=\"1.0\" x1=\"10.5\" x2=\"170.5\" y1=\"150.5\" y2=\"150.5\" /><line stroke-width=\"1.0\" x1=\"30.5\" x2=\"30.5\" y1=\"10.5\" y2=\"170.5\" /><line stroke-width=\"1.0\" x1=\"50.5\" x2=\"50.5\" y1=\"10.5\" y2=\"170.5\" /><line stroke-width=\"1.0\" x1=\"70.5\" x2=\"70.5\" y1=\"10.5\" y2=\"170.5\" /><line stroke-width=\"1.0\" x1=\"90.5\" x2=\"90.5\" y1=\"10.5\" y2=\"170.5\" /><line stroke-width=\"1.0\" x1=\"110.5\" x2=\"110.5\" y1=\"10.5\" y2=\"170.5\" /><line stroke-width=\"1.0\" x1=\"130.5\" x2=\"130.5\" y1=\"10.5\" y2=\"170.5\" /><line stroke-width=\"1.0\" x1=\"150.5\" x2=\"150.5\" y1=\"10.5\" y2=\"170.5\" /></g><g><text font-family=\"serif\" font-size=\"9.5\" text-anchor=\"middle\" x=\"20.5\" y=\"8\">a</text><text font-family=\"serif\" font-size=\"9.5\" text-anchor=\"middle\" x=\"40.5\" y=\"8\">b</text><text font-family=\"serif\" font-size=\"9.5\" text-anchor=\"middle\" x=\"60.5\" y=\"8\">c</text><text font-family=\"serif\" font-size=\"9.5\" text-anchor=\"middle\" x=\"80.5\" y=\"8\">d</text><text font-family=\"serif\" font-size=\"9.5\" text-anchor=\"middle\" x=\"100.5\" y=\"8\">e</text><text font-family=\"serif\" font-size=\"9.5\" text-anchor=\"middle\" x=\"120.5\" y=\"8\">f</text><text font-family=\"serif\" font-size=\"9.5\" text-anchor=\"middle\" x=\"140.5\" y=\"8\">g</text><text font-family=\"serif\" font-size=\"9.5\" text-anchor=\"middle\" x=\"160.5\" y=\"8\">h</text><text font-family=\"serif\" font-size=\"9.5\" x=\"2.5\" y=\"23.5\">1</text><text font-family=\"serif\" font-size=\"9.5\" x=\"2.5\" y=\"43.5\">2</text><text font-family=\"serif\" font-size=\"9.5\" x=\"2.5\" y=\"63.5\">3</text><text font-family=\"serif\" font-size=\"9.5\" x=\"2.5\" y=\"83.5\">4</text><text font-family=\"serif\" font-size=\"9.5\" x=\"2.5\" y=\"103.5\">5</text><text font-family=\"serif\" font-size=\"9.5\" x=\"2.5\" y=\"123.5\">6</text><text font-family=\"serif\" font-size=\"9.5\" x=\"2.5\" y=\"143.5\">7</text><text font-family=\"serif\" font-size=\"9.5\" x=\"2.5\" y=\"163.5\">8</text></g><use xlink:href=\"#black\" x=\"10.5\" y=\"10.5\" /><use xlink:href=\"#black\" x=\"30.5\" y=\"10.5\" /><use xlink:href=\"#black\" x=\"50.5\" y=\"10.5\" /><use xlink:href=\"#black\" x=\"70.5\" y=\"10.5\" /><use xlink:href=\"#black\" x=\"90.5\" y=\"10.5\" /><use xlink:href=\"#black\" x=\"110.5\" y=\"10.5\" /><use xlink:href=\"#black\" x=\"130.5\" y=\"10.5\" /><use xlink:href=\"#black\" x=\"150.5\" y=\"10.5\" /><use xlink:href=\"#black\" x=\"10.5\" y=\"30.5\" /><use xlink:href=\"#black\" x=\"30.5\" y=\"30.5\" /><use xlink:href=\"#white\" x=\"50.5\" y=\"30.5\" /><use xlink:href=\"#black\" x=\"70.5\" y=\"30.5\" /><use xlink:href=\"#white\" x=\"90.5\" y=\"30.5\" /><use xlink:href=\"#white\" x=\"110.5\" y=\"30.5\" /><use xlink:href=\"#black\" x=\"130.5\" y=\"30.5\" /><use xlink:href=\"#black\" x=\"150.5\" y=\"30.5\" /><use xlink:href=\"#black\" x=\"10.5\" y=\"50.5\" /><use xlink:href=\"#white\" x=\"30.5\" y=\"50.5\" /><use xlink:href=\"#black\" x=\"50.5\" y=\"50.5\" /><use xlink:href=\"#white\" x=\"70.5\" y=\"50.5\" /><use xlink:href=\"#white\" x=\"90.5\" y=\"50.5\" /><use xlink:href=\"#black\" x=\"110.5\" y=\"50.5\" /><use xlink:href=\"#white\" x=\"130.5\" y=\"50.5\" /><use xlink:href=\"#black\" x=\"150.5\" y=\"50.5\" /><use xlink:href=\"#black\" x=\"10.5\" y=\"70.5\" /><use xlink:href=\"#white\" x=\"30.5\" y=\"70.5\" /><use xlink:href=\"#white\" x=\"50.5\" y=\"70.5\" /><use xlink:href=\"#black\" x=\"70.5\" y=\"70.5\" /><use xlink:href=\"#black\" x=\"90.5\" y=\"70.5\" /><use xlink:href=\"#black\" x=\"110.5\" y=\"70.5\" /><use xlink:href=\"#white\" x=\"130.5\" y=\"70.5\" /><use xlink:href=\"#black\" x=\"150.5\" y=\"70.5\" /><use xlink:href=\"#black\" x=\"10.5\" y=\"90.5\" /><use xlink:href=\"#white\" x=\"30.5\" y=\"90.5\" /><use xlink:href=\"#white\" x=\"50.5\" y=\"90.5\" /><use xlink:href=\"#black\" x=\"70.5\" y=\"90.5\" /><use xlink:href=\"#black\" x=\"90.5\" y=\"90.5\" /><use xlink:href=\"#black\" x=\"110.5\" y=\"90.5\" /><use xlink:href=\"#black\" x=\"130.5\" y=\"90.5\" /><use xlink:href=\"#black\" x=\"150.5\" y=\"90.5\" /><use xlink:href=\"#black\" x=\"10.5\" y=\"110.5\" /><use xlink:href=\"#black\" x=\"30.5\" y=\"110.5\" /><use xlink:href=\"#black\" x=\"50.5\" y=\"110.5\" /><use xlink:href=\"#black\" x=\"70.5\" y=\"110.5\" /><use xlink:href=\"#black\" x=\"90.5\" y=\"110.5\" /><use xlink:href=\"#black\" x=\"110.5\" y=\"110.5\" /><use xlink:href=\"#black\" x=\"130.5\" y=\"110.5\" /><use xlink:href=\"#black\" x=\"150.5\" y=\"110.5\" /><use xlink:href=\"#black\" x=\"10.5\" y=\"130.5\" /><use xlink:href=\"#black\" x=\"30.5\" y=\"130.5\" /><use xlink:href=\"#black\" x=\"50.5\" y=\"130.5\" /><use xlink:href=\"#black\" x=\"70.5\" y=\"130.5\" /><use xlink:href=\"#black\" x=\"90.5\" y=\"130.5\" /><use xlink:href=\"#black\" x=\"110.5\" y=\"130.5\" /><use xlink:href=\"#white\" x=\"130.5\" y=\"130.5\" /><use xlink:href=\"#black\" x=\"150.5\" y=\"130.5\" /><use xlink:href=\"#black\" x=\"10.5\" y=\"150.5\" /><use xlink:href=\"#black\" x=\"30.5\" y=\"150.5\" /><use xlink:href=\"#black\" x=\"50.5\" y=\"150.5\" /><use xlink:href=\"#black\" x=\"70.5\" y=\"150.5\" /><use xlink:href=\"#black\" x=\"90.5\" y=\"150.5\" /><use xlink:href=\"#white\" x=\"110.5\" y=\"150.5\" /><use xlink:href=\"#white\" x=\"130.5\" y=\"150.5\" /><use xlink:href=\"#white\" x=\"150.5\" y=\"150.5\" /></svg>"
          },
          "metadata": {},
          "execution_count": 16
        }
      ],
      "source": [
        "newboard = creversi.Board()\n",
        "vs(newboard, rp, gp)"
      ]
    },
    {
      "cell_type": "code",
      "execution_count": 17,
      "metadata": {
        "id": "zMR7coH2yJBO"
      },
      "outputs": [],
      "source": [
        "rpwin = 0\n",
        "gpwin = 0\n",
        "draw = 0\n",
        "for i in range(500):\n",
        "  board = creversi.Board()\n",
        "  result = vs_notext(board, rp, gp)\n",
        "  if result == 1:\n",
        "    rpwin += 1\n",
        "  elif result == 2:\n",
        "    gpwin += 1\n",
        "  else:\n",
        "    draw += 1\n",
        "\n",
        "  board = creversi.Board()\n",
        "  result = vs_notext(board, gp, rp)\n",
        "  if result == 1:\n",
        "    gpwin += 1\n",
        "  elif result == 2:\n",
        "    rpwin += 1\n",
        "  else:\n",
        "    draw += 1"
      ]
    },
    {
      "cell_type": "code",
      "execution_count": 18,
      "metadata": {
        "colab": {
          "base_uri": "https://localhost:8080/"
        },
        "id": "WW0WQDWUyJBO",
        "outputId": "56377505-e252-4fb4-e0c3-2786208becca"
      },
      "outputs": [
        {
          "output_type": "stream",
          "name": "stdout",
          "text": [
            "RandomPlayer vs GreedyPlayer\n",
            "RandomPlayer Win: 406\n",
            "GreedyPlayer Win: 544\n",
            "Draw: 50\n",
            "RandomPlayer Win Rate: 0.406\n",
            "GreedyPlayer Win Rate: 0.544\n"
          ]
        }
      ],
      "source": [
        "print(\"RandomPlayer vs GreedyPlayer\")\n",
        "print(\"RandomPlayer Win:\", rpwin)\n",
        "print(\"GreedyPlayer Win:\", gpwin)\n",
        "print(\"Draw:\", draw)\n",
        "print(\"RandomPlayer Win Rate:\", rpwin/(rpwin+gpwin+draw))\n",
        "print(\"GreedyPlayer Win Rate:\", gpwin/(rpwin+gpwin+draw))"
      ]
    },
    {
      "cell_type": "code",
      "execution_count": 19,
      "metadata": {
        "id": "x0nFLudMyJBP"
      },
      "outputs": [],
      "source": [
        "rp1 = RandomPlayer()\n",
        "rp2 = RandomPlayer()\n",
        "\n",
        "rp1win = 0\n",
        "rp2win = 0\n",
        "draw = 0\n",
        "for i in range(500):\n",
        "  board = creversi.Board()\n",
        "  result = vs_notext(board, rp1, rp2)\n",
        "  if result == 1:\n",
        "    rp1win += 1\n",
        "  elif result == 2:\n",
        "    rp2win += 1\n",
        "  else:\n",
        "    draw += 1\n",
        "\n",
        "  board = creversi.Board()\n",
        "  result = vs_notext(board, rp2, rp1)\n",
        "  if result == 1:\n",
        "    rp2win += 1\n",
        "  elif result == 2:\n",
        "    rp1win += 1\n",
        "  else:\n",
        "    draw += 1"
      ]
    },
    {
      "cell_type": "code",
      "execution_count": 20,
      "metadata": {
        "colab": {
          "base_uri": "https://localhost:8080/"
        },
        "id": "FSHv9NZByJBQ",
        "outputId": "703b6eea-cb0a-462e-823a-5c67713d841b"
      },
      "outputs": [
        {
          "output_type": "stream",
          "name": "stdout",
          "text": [
            "RandomPlayer vs RandomPlayer\n",
            "RandomPlayer1 Win: 489\n",
            "RandomPlayer2 Win: 478\n",
            "Draw: 33\n",
            "RandomPlayer1 Win Rate: 0.489\n",
            "RandomPlayer2 Win Rate: 0.478\n"
          ]
        }
      ],
      "source": [
        "print(\"RandomPlayer vs RandomPlayer\")\n",
        "print(\"RandomPlayer1 Win:\", rp1win)\n",
        "print(\"RandomPlayer2 Win:\", rp2win)\n",
        "print(\"Draw:\", draw)\n",
        "print(\"RandomPlayer1 Win Rate:\", rp1win/(rp1win+rp2win+draw))\n",
        "print(\"RandomPlayer2 Win Rate:\", rp2win/(rp1win+rp2win+draw))"
      ]
    },
    {
      "cell_type": "code",
      "execution_count": 21,
      "metadata": {
        "id": "0xxismyMyJBQ"
      },
      "outputs": [],
      "source": [
        "gp1 = GreedyPlayer(\"/content/epsilon_greedy_model.pt\", device)\n",
        "gp2 = GreedyPlayer(\"/content/epsilon_greedy_model.pt\", device)\n",
        "\n",
        "gp1win = 0\n",
        "gp2win = 0\n",
        "draw = 0\n",
        "for i in range(500):\n",
        "  board = creversi.Board()\n",
        "  result = vs_notext(board, gp1, gp2)\n",
        "  if result == 1:\n",
        "    gp1win += 1\n",
        "  elif result == 2:\n",
        "    gp2win += 1\n",
        "  else:\n",
        "    draw += 1\n",
        "\n",
        "  board = creversi.Board()\n",
        "  result = vs_notext(board, gp2, gp1)\n",
        "  if result == 1:\n",
        "    gp2win += 1\n",
        "  elif result == 2:\n",
        "    gp1win += 1\n",
        "  else:\n",
        "    draw += 1"
      ]
    },
    {
      "cell_type": "code",
      "execution_count": 22,
      "metadata": {
        "colab": {
          "base_uri": "https://localhost:8080/"
        },
        "id": "u1vwCd9NyJBQ",
        "outputId": "11ffe3ac-500f-4a35-f8cd-8ed1f015b2d8"
      },
      "outputs": [
        {
          "output_type": "stream",
          "name": "stdout",
          "text": [
            "GreedyPlayer vs GreedyPlayer\n",
            "GreedyPlayer1 Win: 500\n",
            "GreedyPlayer2 Win: 500\n",
            "Draw: 0\n",
            "GreedyPlayer1 Win Rate: 0.5\n",
            "GreedyPlayer2 Win Rate: 0.5\n"
          ]
        }
      ],
      "source": [
        "print(\"GreedyPlayer vs GreedyPlayer\")\n",
        "print(\"GreedyPlayer1 Win:\", gp1win)\n",
        "print(\"GreedyPlayer2 Win:\", gp2win)\n",
        "print(\"Draw:\", draw)\n",
        "print(\"GreedyPlayer1 Win Rate:\", gp1win/(gp1win+gp2win+draw))\n",
        "print(\"GreedyPlayer2 Win Rate:\", gp2win/(gp1win+gp2win+draw))"
      ]
    }
  ],
  "metadata": {
    "language_info": {
      "name": "python"
    },
    "colab": {
      "provenance": []
    },
    "kernelspec": {
      "name": "python3",
      "display_name": "Python 3"
    }
  },
  "nbformat": 4,
  "nbformat_minor": 0
}