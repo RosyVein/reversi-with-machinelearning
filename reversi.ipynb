{
  "cells": [
    {
      "cell_type": "code",
      "execution_count": null,
      "metadata": {
        "colab": {
          "base_uri": "https://localhost:8080/"
        },
        "id": "19o0R8Uiq9i8",
        "outputId": "6599c114-4a02-475a-bf2f-d05c4f892011"
      },
      "outputs": [],
      "source": [
        "pip install creversi"
      ]
    },
    {
      "cell_type": "code",
      "execution_count": null,
      "metadata": {
        "id": "5Kwc9OW9rf0Q"
      },
      "outputs": [],
      "source": [
        "import creversi\n",
        "from IPython.display import display, SVG"
      ]
    },
    {
      "cell_type": "code",
      "execution_count": null,
      "metadata": {
        "id": "cKpV8Y7ss2fZ"
      },
      "outputs": [],
      "source": [
        "#ランダムAI\n",
        "\n",
        "import random\n",
        "\n",
        "def rm(board, show_step = False):\n",
        "  move = board.move_from_str(str(random.choice((list([creversi.move_to_str(move) for move in board.legal_moves])))))\n",
        "  if show_step:\n",
        "    display(SVG(board.to_svg(move)))\n",
        "  return board\n",
        "\n",
        "#ランダムvsランダム\n",
        "def ar(board, show_step = False):\n",
        "  print(\"Random move till end of game\")\n",
        "  while board.is_game_over() == False:\n",
        "    rm(board, show_step)\n",
        "  n_white = 64 - board.piece_num()\n",
        "  n_black = board.piece_num()\n",
        "  if n_white > n_black:\n",
        "    print(\"White Win!\")\n",
        "  elif n_black > n_white:\n",
        "    print(\"Black Win!\")\n",
        "  else:\n",
        "    print(\"Draw!\")\n",
        "  print(\"White:\",n_white)\n",
        "  print(\"Black:\",n_black)\n",
        "  return board\n",
        "\n",
        "#プレイヤーvsランダムAI\n",
        "def vsRandom(board):\n",
        "  while True:\n",
        "    try:\n",
        "      user_input = input(\"Please select who goes first(1: Player, 2:CPU, 3:Random): \")\n",
        "      turn_order = int(user_input)\n",
        "      if turn_order == 1:\n",
        "        player_turn = True\n",
        "        break\n",
        "      elif turn_order == 2:\n",
        "        player_turn = False\n",
        "        break\n",
        "      elif turn_order == 3:\n",
        "        player_turn = random.choice([True, False])\n",
        "        break\n",
        "      else:\n",
        "        print(\"Invalid input, please try again.\")\n",
        "    except ValueError:\n",
        "      print(\"Invalid input, please try again.\")\n",
        "\n",
        "  if player_turn:\n",
        "    print(\"Player goes first.\")\n",
        "  else:\n",
        "    print(\"CPU goes first.\")\n",
        "\n",
        "  display(board)\n",
        "  while not board.is_game_over():\n",
        "    if player_turn:\n",
        "      board.move(playerInputMove(board))\n",
        "      player_turn = False\n",
        "    else:\n",
        "      print(\"CPU move: \")\n",
        "      rm(board, True)\n",
        "      player_turn = True\n",
        "\n",
        "  n_white = 64 - board.piece_num()\n",
        "  n_black = board.piece_num()\n",
        "  if n_white > n_black:\n",
        "    print(\"White Win!\")\n",
        "  elif n_black > n_white:\n",
        "    print(\"Black Win!\")\n",
        "  else:\n",
        "    print(\"Draw!\")\n",
        "  print(\"White:\",n_white)\n",
        "  print(\"Black:\",n_black)\n",
        "\n",
        "  return board\n",
        "\n",
        "def playerInputMove(board):\n",
        "  while True:\n",
        "    try:\n",
        "      user_input = input(\"Please input your move: \")\n",
        "      legal_moves_str = []\n",
        "      for move in board.legal_moves:\n",
        "        legal_moves_str.append(creversi.move_to_str(move))\n",
        "      if user_input in legal_moves_str:\n",
        "        return creversi.move_from_str(user_input)\n",
        "      else:\n",
        "        print(\"Invalid input, please try again. Legal moves are:\")\n",
        "        for move in board.legal_moves:\n",
        "          print(creversi.move_to_str(move))\n",
        "    except ValueError:\n",
        "      print(\"Invalid input, please try again.\")"
      ]
    },
    {
      "cell_type": "code",
      "execution_count": null,
      "metadata": {
        "colab": {
          "base_uri": "https://localhost:8080/",
          "height": 1000
        },
        "id": "MJmw598Zsb71",
        "outputId": "88b14107-1026-414a-a65e-2a07465faff9"
      },
      "outputs": [],
      "source": [
        "board = creversi.Board()\n",
        "vsRandom(board)"
      ]
    }
  ],
  "metadata": {
    "colab": {
      "provenance": []
    },
    "kernelspec": {
      "display_name": "Python 3",
      "name": "python3"
    },
    "language_info": {
      "name": "python"
    }
  },
  "nbformat": 4,
  "nbformat_minor": 0
}
